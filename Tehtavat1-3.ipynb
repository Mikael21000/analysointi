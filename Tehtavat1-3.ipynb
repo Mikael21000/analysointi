{
 "cells": [
  {
   "cell_type": "markdown",
   "metadata": {},
   "source": [
    "Printer App"
   ]
  },
  {
   "cell_type": "code",
   "execution_count": 16,
   "metadata": {},
   "outputs": [
    {
     "name": "stdout",
     "output_type": "stream",
     "text": [
      "Printer App\n",
      "This app is made by: Mikael\n",
      "The value of number1 is 2\n",
      "The value of number2 is 3\n",
      "6\n",
      "2 * 3 = 6\n",
      "2 + 3 = 5\n",
      "2 / 3 = 0.6666666666666666\n",
      "2 - 3 = -1\n"
     ]
    }
   ],
   "source": [
    "print(\"Printer App\")\n",
    "print(\"This app is made by:\", creator)\n",
    "creator = \"Mikael\"\n",
    "number1 = 2\n",
    "number2 = 3\n",
    "multiplication = int(number1 * number2)\n",
    "addition = int(number1 + number2)\n",
    "division = float(number1 / number2)\n",
    "substraction = int(number1 - number2)\n",
    "# print(number1)\n",
    "print(\"The value of number1 is\", number1)\n",
    "print(\"The value of number2 is\", number2)\n",
    "print(multiplication)\n",
    "print(number1, \"*\",number2, \"=\",multiplication )\n",
    "print(number1, \"+\",number2, \"=\",addition )\n",
    "print(number1, \"/\",number2, \"=\",division )\n",
    "print(number1, \"-\",number2, \"=\",substraction )\n",
    "\n"
   ]
  },
  {
   "cell_type": "markdown",
   "metadata": {},
   "source": [
    "If statement"
   ]
  },
  {
   "cell_type": "code",
   "execution_count": 29,
   "metadata": {},
   "outputs": [
    {
     "name": "stdout",
     "output_type": "stream",
     "text": [
      "number1 eri kuin number2\n"
     ]
    }
   ],
   "source": [
    "number1 = 2\n",
    "number2 = 3\n",
    "\n",
    "if number1 == number2:\n",
    "    print(\"Sama luku\")\n",
    "elif number1 > number2:\n",
    "    print(\"number1 isompi\")\n",
    "    print(\"number1 eri kuin number2\")\n",
    "elif number1 >= number2:\n",
    "    print(\"number1 sama tai isompi\")\n",
    "    print(\"number1 eri kuin number2\")\n",
    "elif number1 != number2:\n",
    "    print(\"number1 eri kuin number2\")\n"
   ]
  },
  {
   "cell_type": "code",
   "execution_count": 55,
   "metadata": {},
   "outputs": [
    {
     "name": "stdout",
     "output_type": "stream",
     "text": [
      "number1 isompi kuin number2\n",
      "number1 ja number3 samat\n"
     ]
    }
   ],
   "source": [
    "number1 = 6\n",
    "number2 = 5\n",
    "number3 = 6\n",
    "\n",
    "if number1 == number2 == number3:\n",
    "    print(\"Luvut ovat samat\")\n",
    "if number1 == number2 or number2 == number3:\n",
    "    print(\"num1 tai num2 samat tai num2 tai num3 samat\")\n",
    "if number1 > number2 and number1 > number3:\n",
    "    print(\"number1 on isompi kuin 2 ja 3\")\n",
    "if number1 > number2:\n",
    "    print(\"number1 isompi kuin number2\")\n",
    "elif number2 > number3:\n",
    "    print(\"number2 isompi kuin number3\")\n",
    "if number1 == number2:\n",
    "    print(\"number1 ja number2 samat\")\n",
    "elif number1 == number3:\n",
    "    print(\"number1 ja number3 samat\")\n",
    "\n"
   ]
  },
  {
   "cell_type": "code",
   "execution_count": 52,
   "metadata": {},
   "outputs": [
    {
     "name": "stdout",
     "output_type": "stream",
     "text": [
      "name1 ja name2 ei samat\n",
      "name1 ja name3 samat\n"
     ]
    }
   ],
   "source": [
    "name1 = \"Mikael\"\n",
    "name2 = \"Mikhael\"\n",
    "name3 = \"Mikael\"\n",
    "\n",
    "if name1 == name2:\n",
    "    print(\"name1 ja name2 samat\")\n",
    "if name1 != name2:\n",
    "    print(\"name1 ja name2 ei samat\")\n",
    "if name1 == name3:\n",
    "    print(\"name1 ja name3 samat\")"
   ]
  },
  {
   "cell_type": "markdown",
   "metadata": {},
   "source": [
    "List exercise"
   ]
  },
  {
   "cell_type": "code",
   "execution_count": 63,
   "metadata": {},
   "outputs": [
    {
     "name": "stdout",
     "output_type": "stream",
     "text": [
      "['table', 'chair', 'shelf', 'sofa']\n",
      "table chair\n",
      "Sofa found\n"
     ]
    }
   ],
   "source": [
    "list = [\"table\", \"chair\", \"shelf\", \"sofa\"]\n",
    "print(list)\n",
    "print(list[0],list[1])\n",
    "if \"sofa\" in list:\n",
    "    print(\"Sofa found\")\n"
   ]
  },
  {
   "cell_type": "code",
   "execution_count": 75,
   "metadata": {},
   "outputs": [
    {
     "name": "stdout",
     "output_type": "stream",
     "text": [
      "[5]\n",
      "[5, 1]\n",
      "[5, 1, 1]\n",
      "[5, 1, 1, 4]\n",
      "[5, 1, 1, 4, 4]\n",
      "15\n",
      "5\n"
     ]
    }
   ],
   "source": [
    "import random\n",
    "n=5\n",
    "thrownDiceNumber = []\n",
    "for i in range (n):\n",
    "    thrownDiceNumber.append(random.randint(1,6))\n",
    "    print(thrownDiceNumber)\n",
    "print(sum(thrownDiceNumber))\n",
    "largest = max(thrownDiceNumber)\n",
    "print(largest)\n",
    "\n"
   ]
  }
 ],
 "metadata": {
  "kernelspec": {
   "display_name": "Python 3",
   "language": "python",
   "name": "python3"
  },
  "language_info": {
   "codemirror_mode": {
    "name": "ipython",
    "version": 3
   },
   "file_extension": ".py",
   "mimetype": "text/x-python",
   "name": "python",
   "nbconvert_exporter": "python",
   "pygments_lexer": "ipython3",
   "version": "3.13.0"
  }
 },
 "nbformat": 4,
 "nbformat_minor": 2
}
